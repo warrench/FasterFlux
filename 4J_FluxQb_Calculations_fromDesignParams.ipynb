{
 "cells": [
  {
   "cell_type": "code",
   "execution_count": 2,
   "metadata": {},
   "outputs": [],
   "source": [
    "%matplotlib inline\n",
    "\n",
    "import numpy as np\n",
    "import scipy as sp\n",
    "import matplotlib.pyplot as plt\n",
    "from IPython.display import Image, display\n",
    "#Heavy lifting is done in the imported module below\n",
    "from sparse_fluxqubit import *"
   ]
  },
  {
   "cell_type": "code",
   "execution_count": 11,
   "metadata": {},
   "outputs": [],
   "source": [
    "#Any of these values can be assigned as a sweep.\n",
    "#Just run a for loop over the corresponding matrices.\n",
    "#See Flux Qubit Calculations.ipynb for examples with the\n",
    "#bias point and relative junction areas.\n",
    "\n",
    "#=========\n",
    "#Constants\n",
    "#=========\n",
    "\n",
    "Phi0 = 2.067833e-15 #Flux quanta [Wb]\n",
    "h = 6.626e-34       #Planck's constant\n",
    "\n",
    "#===========================\n",
    "# Junction Design Parameters\n",
    "#===========================\n",
    "\n",
    "#Set the scale of Ej and tune the relative weights of the \n",
    "#physically designed junctions around that scale\n",
    "\n",
    "Jc = 50e1     #Critical current density [A/cm^2]\n",
    "JA = 1e-9    #Junction Area [cm^2]\n",
    "\n",
    "Ic = Jc*JA    #Critical current [A]\n",
    "Ej = Phi0*Ic/(2.0*np.pi)/h/1e9  # Josephson energy [GHz]\n",
    "\n",
    "Ec = 5    #Charging energy [GHz]\n",
    "\n",
    "\n",
    "#relative junction areas to JA of the physical junctions\n",
    "r1 = 1.42\n",
    "r2 = 0.7\n",
    "r3 = 0.7\n",
    "r4 = 0.7\n",
    "\n",
    "#Bias point of the flux qubit\n",
    "f = np.linspace(0,1,101)"
   ]
  },
  {
   "cell_type": "code",
   "execution_count": 13,
   "metadata": {},
   "outputs": [
    {
     "data": {
      "image/png": "[encoded data removed]",
      "text/plain": [
       "<Figure size 432x288 with 1 Axes>"
      ]
     },
     "metadata": {},
     "output_type": "display_data"
    },
    {
     "data": {
      "image/png": "[encoded data removed]",
      "text/plain": [
       "<Figure size 432x288 with 1 Axes>"
      ]
     },
     "metadata": {},
     "output_type": "display_data"
    }
   ],
   "source": [
    "#====================\n",
    "#Generate Hamiltonian\n",
    "#====================\n",
    "\n",
    "# Number of eigenvals(vecs) to return. MUST be smaller than nmax. Sparse diagonalization\n",
    "# algorithm must return less than the size of the matrix. (See scipy documentation)\n",
    "nelevels = 3 \n",
    "\n",
    "nmax = 5 #total levels to hamiltonian in calculation (change to run faster or slower)\n",
    "# bias charges between each island\n",
    "ng12 = 0\n",
    "ng23 = 0\n",
    "ng34 = 0\n",
    "\n",
    "# Create the generator of the Hamiltonian\n",
    "ham_generator = four_junction_computation_sparse(nmax)\n",
    "# ham_generator is a callable object. It essentially forms the skeleton of the Hamiltonian\n",
    "# and creates the elements that make up the sparse matrix, but does not populate them with\n",
    "# the proper values. This objet is then called to create a Hamiltonian with those specific\n",
    "# values which can then be manipulated.\n",
    "\n",
    "#Create transition matrix generator\n",
    "t_matrix = transition_matrix(nmax)\n",
    "\n",
    "\n",
    "t01 = []\n",
    "t02 = []\n",
    "t12 = []\n",
    "\n",
    "gnd_energy = []\n",
    "E01 = []\n",
    "E12 = []\n",
    "Anharm = []\n",
    "\n",
    "for val in f:\n",
    "    # Hamiltonian with associated values at bias point f\n",
    "    H  = ham_generator(Ej,Ec,r1,r2,r3,r4,val,ng12,ng23,ng34)\n",
    "    # transition matrix at bias point f\n",
    "    transitions = t_matrix(val)\n",
    "\n",
    "    #diagonalize the Hamiltonian and get the eigenvals(vecs)\n",
    "    eigval, eigvec = sp.sparse.linalg.eigsh(H,\n",
    "                                        k=nelevels,\n",
    "                                        which='SA',\n",
    "                                        return_eigenvectors=True)\n",
    "\n",
    "    #Need to do this to get around some silly zip functionality with numpy arrays\n",
    "    temp = []\n",
    "    for i in range(nelevels):\n",
    "        temp.append(eigvec[:,i])\n",
    "    zipped = zip(eigval,temp)\n",
    "    #Sort in terms of ascending eigenvalues and unzip\n",
    "    eigs, evecs = zip(*sorted(zipped, key=lambda x: x[0]))\n",
    "    #Convert evecs to sparse for fast matrix math\n",
    "    evecs = np.transpose(np.array(evecs))\n",
    "    evecs = sp.sparse.csc_matrix(evecs)\n",
    "\n",
    "    gnd_energy.append(eigs[0])\n",
    "    E01.append(eigs[1]-eigs[0])  #gap\n",
    "    E12.append(eigs[2]-eigs[1])\n",
    "    Anharm.append(E12[-1] - E01[-1])\n",
    "\n",
    "    #TODO: Calculate slope for current from deig_gnd/df\n",
    "\n",
    "    t01_temp = (evecs[:,1].H).dot(transitions.dot(evecs[:,0]))\n",
    "    t12_temp = (evecs[:,2].H).dot(transitions.dot(evecs[:,1]))\n",
    "    t02_temp = (evecs[:,2].H).dot(transitions.dot(evecs[:,0]))\n",
    "\n",
    "    t01.append(t01_temp.data[0])\n",
    "    t12.append(t12_temp.data[0])\n",
    "    t02.append(t02_temp.data[0])\n",
    "\n",
    "\n",
    "gnd_energy = np.array(gnd_energy)\n",
    "deriv = np.diff(gnd_energy)/np.diff(f)\n",
    "\n",
    "plt.plot(f,gnd_energy)\n",
    "plt.show()\n",
    "plt.plot(f[1:],deriv)\n",
    "plt.show()"
   ]
  },
  {
   "cell_type": "code",
   "execution_count": null,
   "metadata": {},
   "outputs": [],
   "source": []
  }
 ],
 "metadata": {
  "kernelspec": {
   "display_name": "Python 3",
   "language": "python",
   "name": "python3"
  },
  "language_info": {
   "codemirror_mode": {
    "name": "ipython",
    "version": 3
   },
   "file_extension": ".py",
   "mimetype": "text/x-python",
   "name": "python",
   "nbconvert_exporter": "python",
   "pygments_lexer": "ipython3",
   "version": "3.6.5"
  }
 },
 "nbformat": 4,
 "nbformat_minor": 2
}
